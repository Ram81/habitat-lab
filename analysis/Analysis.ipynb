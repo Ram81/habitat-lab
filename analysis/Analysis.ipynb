{
 "cells": [
  {
   "cell_type": "code",
   "execution_count": 1,
   "metadata": {},
   "outputs": [],
   "source": [
    "import json\n",
    "import pandas as pd\n",
    "import matplotlib.pyplot as plt\n",
    "import seaborn as sns"
   ]
  },
  {
   "cell_type": "code",
   "execution_count": 2,
   "metadata": {},
   "outputs": [
    {
     "name": "stdout",
     "output_type": "stream",
     "text": [
      "Number of episodes 1\n",
      "Episode id: debugMMqDX:debuglCPD7, Total actions: 291\n"
     ]
    }
   ],
   "source": [
    "episode_file = open(\"../data/hit_approvals/task_3.json\")\n",
    "data = json.loads(episode_file.read())\n",
    "\n",
    "print(\"Number of episodes {}\".format(len(data[\"episodes\"])))\n",
    "for episode in data[\"episodes\"]:\n",
    "    print(\"Episode id: {}, Total actions: {}\".format(episode[\"episode_id\"], len(episode[\"reference_replay\"])))"
   ]
  },
  {
   "cell_type": "code",
   "execution_count": 3,
   "metadata": {},
   "outputs": [],
   "source": [
    "episode_data = []\n",
    "columns = []\n",
    "columns.append(\"episode_id\")\n",
    "columns.append(\"total_actions\")\n",
    "\n",
    "for episode in data[\"episodes\"]:\n",
    "    entry = {}\n",
    "    entry[\"episode_id\"] = episode[\"episode_id\"]\n",
    "    entry[\"total_actions\"] = len(episode[\"reference_replay\"])\n",
    "\n",
    "\n",
    "    for replay_data in episode[\"reference_replay\"]:\n",
    "        action = replay_data[\"action\"]\n",
    "        if not action in entry:\n",
    "            entry[action] = 0\n",
    "        entry[action] += 1\n",
    "\n",
    "        if action not in columns:\n",
    "            columns.append(action)\n",
    "    episode_data.append(entry)"
   ]
  },
  {
   "cell_type": "code",
   "execution_count": 4,
   "metadata": {},
   "outputs": [
    {
     "data": {
      "text/html": [
       "<div>\n",
       "<style scoped>\n",
       "    .dataframe tbody tr th:only-of-type {\n",
       "        vertical-align: middle;\n",
       "    }\n",
       "\n",
       "    .dataframe tbody tr th {\n",
       "        vertical-align: top;\n",
       "    }\n",
       "\n",
       "    .dataframe thead th {\n",
       "        text-align: right;\n",
       "    }\n",
       "</style>\n",
       "<table border=\"1\" class=\"dataframe\">\n",
       "  <thead>\n",
       "    <tr style=\"text-align: right;\">\n",
       "      <th></th>\n",
       "      <th>episode_id</th>\n",
       "      <th>total_actions</th>\n",
       "      <th>stepPhysics</th>\n",
       "      <th>turnRight</th>\n",
       "      <th>lookDown</th>\n",
       "      <th>moveBackward</th>\n",
       "      <th>moveForward</th>\n",
       "      <th>turnLeft</th>\n",
       "      <th>grabReleaseObject</th>\n",
       "    </tr>\n",
       "  </thead>\n",
       "  <tbody>\n",
       "    <tr>\n",
       "      <th>0</th>\n",
       "      <td>debugMMqDX:debuglCPD7</td>\n",
       "      <td>291</td>\n",
       "      <td>227</td>\n",
       "      <td>11</td>\n",
       "      <td>7</td>\n",
       "      <td>15</td>\n",
       "      <td>22</td>\n",
       "      <td>7</td>\n",
       "      <td>2</td>\n",
       "    </tr>\n",
       "  </tbody>\n",
       "</table>\n",
       "</div>"
      ],
      "text/plain": [
       "              episode_id  total_actions  stepPhysics  turnRight  lookDown  \\\n",
       "0  debugMMqDX:debuglCPD7            291          227         11         7   \n",
       "\n",
       "   moveBackward  moveForward  turnLeft  grabReleaseObject  \n",
       "0            15           22         7                  2  "
      ]
     },
     "execution_count": 4,
     "metadata": {},
     "output_type": "execute_result"
    }
   ],
   "source": [
    "df = pd.DataFrame(episode_data, columns=columns)\n",
    "df.fillna(0, inplace=True)\n",
    "df.head(15)"
   ]
  },
  {
   "cell_type": "code",
   "execution_count": 5,
   "metadata": {},
   "outputs": [],
   "source": [
    "df[\"agent_actions\"] = df[\"total_actions\"] - df[\"stepPhysics\"]"
   ]
  },
  {
   "cell_type": "code",
   "execution_count": 6,
   "metadata": {},
   "outputs": [
    {
     "data": {
      "image/png": "[encoded data removed]",
      "text/plain": [
       "<Figure size 432x288 with 1 Axes>"
      ]
     },
     "metadata": {
      "needs_background": "light"
     },
     "output_type": "display_data"
    }
   ],
   "source": [
    "sns.histplot(df[\"total_actions\"].values, bins=13)\n",
    "plt.gca().set(title='Total actions histogram', ylabel='Frequency', xlabel='Num actions')\n",
    "plt.savefig(\"action_distribution.jpg\")"
   ]
  },
  {
   "cell_type": "code",
   "execution_count": 7,
   "metadata": {},
   "outputs": [
    {
     "data": {
      "image/png": "[encoded data removed]",
      "text/plain": [
       "<Figure size 432x288 with 1 Axes>"
      ]
     },
     "metadata": {
      "needs_background": "light"
     },
     "output_type": "display_data"
    }
   ],
   "source": [
    "sns.histplot(data=df[[\"stepPhysics\", \"agent_actions\"]], element=\"step\")\n",
    "plt.gca().set(ylabel='Frequency', xlabel='Num actions')\n",
    "plt.savefig(\"env_and_agent_action_distribution.jpg\")"
   ]
  },
  {
   "cell_type": "code",
   "execution_count": 8,
   "metadata": {},
   "outputs": [
    {
     "data": {
      "image/png": "[encoded data removed]",
      "text/plain": [
       "<Figure size 432x288 with 1 Axes>"
      ]
     },
     "metadata": {
      "needs_background": "light"
     },
     "output_type": "display_data"
    }
   ],
   "source": [
    "plt.hist(df[\"agent_actions\"].values, bins=13)\n",
    "plt.gca().set(title='Agent action histogram', ylabel='Frequency', xlabel='Num actions')\n",
    "plt.savefig(\"agent_action_dist.jpg\")"
   ]
  },
  {
   "cell_type": "code",
   "execution_count": 9,
   "metadata": {},
   "outputs": [
    {
     "data": {
      "image/png": "[encoded data removed]",
      "text/plain": [
       "<Figure size 432x288 with 1 Axes>"
      ]
     },
     "metadata": {
      "needs_background": "light"
     },
     "output_type": "display_data"
    }
   ],
   "source": [
    "sns.lineplot(data=df[[\"stepPhysics\", \"agent_actions\"]])\n",
    "plt.gca().set(title='Action per episode', ylabel='Frequency', xlabel='Episode id')\n",
    "plt.savefig(\"action_per_episode.jpg\")"
   ]
  },
  {
   "cell_type": "code",
   "execution_count": 10,
   "metadata": {},
   "outputs": [
    {
     "ename": "KeyError",
     "evalue": "\"['lookUp'] not in index\"",
     "output_type": "error",
     "traceback": [
      "\u001b[0;31m---------------------------------------------------------------------------\u001b[0m",
      "\u001b[0;31mKeyError\u001b[0m                                  Traceback (most recent call last)",
      "\u001b[0;32m<ipython-input-10-57a7d197478a>\u001b[0m in \u001b[0;36m<module>\u001b[0;34m\u001b[0m\n\u001b[0;32m----> 1\u001b[0;31m \u001b[0msns\u001b[0m\u001b[0;34m.\u001b[0m\u001b[0mlineplot\u001b[0m\u001b[0;34m(\u001b[0m\u001b[0mdata\u001b[0m\u001b[0;34m=\u001b[0m\u001b[0mdf\u001b[0m\u001b[0;34m[\u001b[0m\u001b[0;34m[\u001b[0m\u001b[0;34m\"turnLeft\"\u001b[0m\u001b[0;34m,\u001b[0m \u001b[0;34m\"turnRight\"\u001b[0m\u001b[0;34m,\u001b[0m \u001b[0;34m\"lookDown\"\u001b[0m\u001b[0;34m,\u001b[0m \u001b[0;34m\"lookUp\"\u001b[0m\u001b[0;34m,\u001b[0m \u001b[0;34m\"moveForward\"\u001b[0m\u001b[0;34m,\u001b[0m \u001b[0;34m\"moveBackward\"\u001b[0m\u001b[0;34m,\u001b[0m \u001b[0;34m\"grabReleaseObject\"\u001b[0m\u001b[0;34m]\u001b[0m\u001b[0;34m]\u001b[0m\u001b[0;34m)\u001b[0m\u001b[0;34m\u001b[0m\u001b[0m\n\u001b[0m\u001b[1;32m      2\u001b[0m \u001b[0mplt\u001b[0m\u001b[0;34m.\u001b[0m\u001b[0mgca\u001b[0m\u001b[0;34m(\u001b[0m\u001b[0;34m)\u001b[0m\u001b[0;34m.\u001b[0m\u001b[0mset\u001b[0m\u001b[0;34m(\u001b[0m\u001b[0mtitle\u001b[0m\u001b[0;34m=\u001b[0m\u001b[0;34m'Agent action per episode'\u001b[0m\u001b[0;34m,\u001b[0m \u001b[0mylabel\u001b[0m\u001b[0;34m=\u001b[0m\u001b[0;34m'Frequency'\u001b[0m\u001b[0;34m,\u001b[0m \u001b[0mxlabel\u001b[0m\u001b[0;34m=\u001b[0m\u001b[0;34m'Episode id'\u001b[0m\u001b[0;34m)\u001b[0m\u001b[0;34m\u001b[0m\u001b[0m\n\u001b[1;32m      3\u001b[0m \u001b[0mplt\u001b[0m\u001b[0;34m.\u001b[0m\u001b[0msavefig\u001b[0m\u001b[0;34m(\u001b[0m\u001b[0;34m\"agent_action_per_episode.jpg\"\u001b[0m\u001b[0;34m)\u001b[0m\u001b[0;34m\u001b[0m\u001b[0m\n",
      "\u001b[0;32m~/research/venv/lib/python3.6/site-packages/pandas/core/frame.py\u001b[0m in \u001b[0;36m__getitem__\u001b[0;34m(self, key)\u001b[0m\n\u001b[1;32m   2906\u001b[0m             \u001b[0;32mif\u001b[0m \u001b[0mis_iterator\u001b[0m\u001b[0;34m(\u001b[0m\u001b[0mkey\u001b[0m\u001b[0;34m)\u001b[0m\u001b[0;34m:\u001b[0m\u001b[0;34m\u001b[0m\u001b[0m\n\u001b[1;32m   2907\u001b[0m                 \u001b[0mkey\u001b[0m \u001b[0;34m=\u001b[0m \u001b[0mlist\u001b[0m\u001b[0;34m(\u001b[0m\u001b[0mkey\u001b[0m\u001b[0;34m)\u001b[0m\u001b[0;34m\u001b[0m\u001b[0m\n\u001b[0;32m-> 2908\u001b[0;31m             \u001b[0mindexer\u001b[0m \u001b[0;34m=\u001b[0m \u001b[0mself\u001b[0m\u001b[0;34m.\u001b[0m\u001b[0mloc\u001b[0m\u001b[0;34m.\u001b[0m\u001b[0m_get_listlike_indexer\u001b[0m\u001b[0;34m(\u001b[0m\u001b[0mkey\u001b[0m\u001b[0;34m,\u001b[0m \u001b[0maxis\u001b[0m\u001b[0;34m=\u001b[0m\u001b[0;36m1\u001b[0m\u001b[0;34m,\u001b[0m \u001b[0mraise_missing\u001b[0m\u001b[0;34m=\u001b[0m\u001b[0;32mTrue\u001b[0m\u001b[0;34m)\u001b[0m\u001b[0;34m[\u001b[0m\u001b[0;36m1\u001b[0m\u001b[0;34m]\u001b[0m\u001b[0;34m\u001b[0m\u001b[0m\n\u001b[0m\u001b[1;32m   2909\u001b[0m \u001b[0;34m\u001b[0m\u001b[0m\n\u001b[1;32m   2910\u001b[0m         \u001b[0;31m# take() does not accept boolean indexers\u001b[0m\u001b[0;34m\u001b[0m\u001b[0;34m\u001b[0m\u001b[0m\n",
      "\u001b[0;32m~/research/venv/lib/python3.6/site-packages/pandas/core/indexing.py\u001b[0m in \u001b[0;36m_get_listlike_indexer\u001b[0;34m(self, key, axis, raise_missing)\u001b[0m\n\u001b[1;32m   1252\u001b[0m             \u001b[0mkeyarr\u001b[0m\u001b[0;34m,\u001b[0m \u001b[0mindexer\u001b[0m\u001b[0;34m,\u001b[0m \u001b[0mnew_indexer\u001b[0m \u001b[0;34m=\u001b[0m \u001b[0max\u001b[0m\u001b[0;34m.\u001b[0m\u001b[0m_reindex_non_unique\u001b[0m\u001b[0;34m(\u001b[0m\u001b[0mkeyarr\u001b[0m\u001b[0;34m)\u001b[0m\u001b[0;34m\u001b[0m\u001b[0m\n\u001b[1;32m   1253\u001b[0m \u001b[0;34m\u001b[0m\u001b[0m\n\u001b[0;32m-> 1254\u001b[0;31m         \u001b[0mself\u001b[0m\u001b[0;34m.\u001b[0m\u001b[0m_validate_read_indexer\u001b[0m\u001b[0;34m(\u001b[0m\u001b[0mkeyarr\u001b[0m\u001b[0;34m,\u001b[0m \u001b[0mindexer\u001b[0m\u001b[0;34m,\u001b[0m \u001b[0maxis\u001b[0m\u001b[0;34m,\u001b[0m \u001b[0mraise_missing\u001b[0m\u001b[0;34m=\u001b[0m\u001b[0mraise_missing\u001b[0m\u001b[0;34m)\u001b[0m\u001b[0;34m\u001b[0m\u001b[0m\n\u001b[0m\u001b[1;32m   1255\u001b[0m         \u001b[0;32mreturn\u001b[0m \u001b[0mkeyarr\u001b[0m\u001b[0;34m,\u001b[0m \u001b[0mindexer\u001b[0m\u001b[0;34m\u001b[0m\u001b[0m\n\u001b[1;32m   1256\u001b[0m \u001b[0;34m\u001b[0m\u001b[0m\n",
      "\u001b[0;32m~/research/venv/lib/python3.6/site-packages/pandas/core/indexing.py\u001b[0m in \u001b[0;36m_validate_read_indexer\u001b[0;34m(self, key, indexer, axis, raise_missing)\u001b[0m\n\u001b[1;32m   1302\u001b[0m             \u001b[0;32mif\u001b[0m \u001b[0mraise_missing\u001b[0m\u001b[0;34m:\u001b[0m\u001b[0;34m\u001b[0m\u001b[0m\n\u001b[1;32m   1303\u001b[0m                 \u001b[0mnot_found\u001b[0m \u001b[0;34m=\u001b[0m \u001b[0mlist\u001b[0m\u001b[0;34m(\u001b[0m\u001b[0mset\u001b[0m\u001b[0;34m(\u001b[0m\u001b[0mkey\u001b[0m\u001b[0;34m)\u001b[0m \u001b[0;34m-\u001b[0m \u001b[0mset\u001b[0m\u001b[0;34m(\u001b[0m\u001b[0max\u001b[0m\u001b[0;34m)\u001b[0m\u001b[0;34m)\u001b[0m\u001b[0;34m\u001b[0m\u001b[0m\n\u001b[0;32m-> 1304\u001b[0;31m                 \u001b[0;32mraise\u001b[0m \u001b[0mKeyError\u001b[0m\u001b[0;34m(\u001b[0m\u001b[0;34mf\"{not_found} not in index\"\u001b[0m\u001b[0;34m)\u001b[0m\u001b[0;34m\u001b[0m\u001b[0m\n\u001b[0m\u001b[1;32m   1305\u001b[0m \u001b[0;34m\u001b[0m\u001b[0m\n\u001b[1;32m   1306\u001b[0m             \u001b[0;31m# we skip the warning on Categorical\u001b[0m\u001b[0;34m\u001b[0m\u001b[0;34m\u001b[0m\u001b[0m\n",
      "\u001b[0;31mKeyError\u001b[0m: \"['lookUp'] not in index\""
     ]
    }
   ],
   "source": [
    "sns.lineplot(data=df[[\"turnLeft\", \"turnRight\", \"lookDown\", \"lookUp\", \"moveForward\", \"moveBackward\", \"grabReleaseObject\"]])\n",
    "plt.gca().set(title='Agent action per episode', ylabel='Frequency', xlabel='Episode id')\n",
    "plt.savefig(\"agent_action_per_episode.jpg\")"
   ]
  },
  {
   "cell_type": "code",
   "execution_count": 32,
   "metadata": {},
   "outputs": [],
   "source": [
    "episode = data[\"episodes\"][0][\"reference_replay\"]"
   ]
  },
  {
   "cell_type": "code",
   "execution_count": 48,
   "metadata": {},
   "outputs": [],
   "source": [
    "import datetime\n",
    "fmt = \"%Y-%m-%d %H:%M:%S.%f\"\n",
    "\n",
    "def get_dt(epochtime):\n",
    "    return datetime.datetime.fromtimestamp(float(epochtime)/1000.0)\n",
    "\n",
    "def get_diff(dt1, dt2):\n",
    "    diff = dt2 - dt1\n",
    "    elapsed_time = int((diff.seconds * 1000) + (diff.microseconds / 1000))\n",
    "    return diff"
   ]
  },
  {
   "cell_type": "code",
   "execution_count": 49,
   "metadata": {},
   "outputs": [],
   "source": [
    "dtt = get_dt(episode[0][\"timestamp\"])"
   ]
  },
  {
   "cell_type": "code",
   "execution_count": 51,
   "metadata": {},
   "outputs": [
    {
     "data": {
      "text/plain": [
       "[('stepPhysics', 0.0),\n",
       " ('stepPhysics', 98.0),\n",
       " ('stepPhysics', 198.0),\n",
       " ('stepPhysics', 299.0),\n",
       " ('stepPhysics', 402.0),\n",
       " ('stepPhysics', 504.0),\n",
       " ('stepPhysics', 600.0),\n",
       " ('turnRight', 671.0),\n",
       " ('stepPhysics', 699.0),\n",
       " ('stepPhysics', 804.0),\n",
       " ('lookDown', 872.0),\n",
       " ('stepPhysics', 901.0),\n",
       " ('stepPhysics', 999.0),\n",
       " ('stepPhysics', 1104.0),\n",
       " ('lookDown', 1136.0),\n",
       " ('stepPhysics', 1202.0),\n",
       " ('stepPhysics', 1298.0),\n",
       " ('stepPhysics', 1398.0),\n",
       " ('stepPhysics', 1501.0),\n",
       " ('stepPhysics', 1603.0),\n",
       " ('lookDown', 1637.0),\n",
       " ('stepPhysics', 1703.0),\n",
       " ('lookDown', 1721.0),\n",
       " ('stepPhysics', 1798.0),\n",
       " ('moveBackward', 1879.0),\n",
       " ('stepPhysics', 1898.0),\n",
       " ('stepPhysics', 2002.0),\n",
       " ('stepPhysics', 2102.0),\n",
       " ('stepPhysics', 2199.0),\n",
       " ('stepPhysics', 2298.0),\n",
       " ('moveBackward', 2383.0),\n",
       " ('stepPhysics', 2394.0),\n",
       " ('moveBackward', 2464.0),\n",
       " ('stepPhysics', 2496.0),\n",
       " ('moveBackward', 2548.0),\n",
       " ('stepPhysics', 2596.0),\n",
       " ('moveBackward', 2632.0),\n",
       " ('stepPhysics', 2698.0),\n",
       " ('moveBackward', 2716.0),\n",
       " ('stepPhysics', 2795.0),\n",
       " ('moveBackward', 2801.0),\n",
       " ('moveBackward', 2884.0),\n",
       " ('stepPhysics', 2895.0),\n",
       " ('moveBackward', 2968.0),\n",
       " ('stepPhysics', 2996.0),\n",
       " ('moveBackward', 3052.0),\n",
       " ('stepPhysics', 3095.0),\n",
       " ('stepPhysics', 3194.0),\n",
       " ('stepPhysics', 3296.0),\n",
       " ('stepPhysics', 3397.0),\n",
       " ('stepPhysics', 3495.0),\n",
       " ('stepPhysics', 3595.0),\n",
       " ('stepPhysics', 3694.0),\n",
       " ('stepPhysics', 3798.0),\n",
       " ('stepPhysics', 3896.0),\n",
       " ('stepPhysics', 3999.0),\n",
       " ('stepPhysics', 4094.0),\n",
       " ('stepPhysics', 4197.0),\n",
       " ('stepPhysics', 4296.0),\n",
       " ('moveForward', 4367.0),\n",
       " ('stepPhysics', 4395.0),\n",
       " ('stepPhysics', 4499.0),\n",
       " ('stepPhysics', 4597.0),\n",
       " ('turnRight', 4623.0),\n",
       " ('stepPhysics', 4698.0),\n",
       " ('stepPhysics', 4796.0),\n",
       " ('stepPhysics', 4899.0),\n",
       " ('stepPhysics', 5000.0),\n",
       " ('stepPhysics', 5095.0),\n",
       " ('turnRight', 5125.0),\n",
       " ('stepPhysics', 5195.0),\n",
       " ('turnRight', 5211.0),\n",
       " ('stepPhysics', 5297.0),\n",
       " ('stepPhysics', 5398.0),\n",
       " ('stepPhysics', 5496.0),\n",
       " ('stepPhysics', 5600.0),\n",
       " ('stepPhysics', 5694.0),\n",
       " ('stepPhysics', 5797.0),\n",
       " ('stepPhysics', 5898.0),\n",
       " ('turnRight', 5906.0),\n",
       " ('stepPhysics', 5999.0),\n",
       " ('stepPhysics', 6100.0),\n",
       " ('stepPhysics', 6199.0),\n",
       " ('stepPhysics', 6298.0),\n",
       " ('stepPhysics', 6397.0),\n",
       " ('turnRight', 6407.0),\n",
       " ('turnRight', 6490.0),\n",
       " ('stepPhysics', 6496.0),\n",
       " ('turnRight', 6575.0),\n",
       " ('stepPhysics', 6595.0),\n",
       " ('stepPhysics', 6696.0),\n",
       " ('stepPhysics', 6798.0),\n",
       " ('stepPhysics', 6894.0),\n",
       " ('stepPhysics', 6998.0),\n",
       " ('turnRight', 7034.0),\n",
       " ('stepPhysics', 7095.0),\n",
       " ('stepPhysics', 7199.0),\n",
       " ('stepPhysics', 7294.0),\n",
       " ('moveForward', 7375.0),\n",
       " ('stepPhysics', 7398.0),\n",
       " ('stepPhysics', 7498.0),\n",
       " ('stepPhysics', 7595.0),\n",
       " ('moveForward', 7630.0),\n",
       " ('stepPhysics', 7698.0),\n",
       " ('stepPhysics', 7799.0),\n",
       " ('stepPhysics', 7895.0),\n",
       " ('stepPhysics', 8000.0),\n",
       " ('stepPhysics', 8099.0),\n",
       " ('moveForward', 8130.0),\n",
       " ('stepPhysics', 8196.0),\n",
       " ('moveForward', 8215.0),\n",
       " ('stepPhysics', 8299.0),\n",
       " ('moveForward', 8300.0),\n",
       " ('stepPhysics', 8398.0),\n",
       " ('turnLeft', 8399.0),\n",
       " ('stepPhysics', 8499.0),\n",
       " ('stepPhysics', 8599.0),\n",
       " ('moveForward', 8677.0),\n",
       " ('stepPhysics', 8695.0),\n",
       " ('stepPhysics', 8794.0),\n",
       " ('stepPhysics', 8895.0),\n",
       " ('lookDown', 8950.0),\n",
       " ('stepPhysics', 8996.0),\n",
       " ('stepPhysics', 9099.0),\n",
       " ('lookDown', 9109.0),\n",
       " ('stepPhysics', 9198.0),\n",
       " ('stepPhysics', 9295.0),\n",
       " ('stepPhysics', 9396.0),\n",
       " ('stepPhysics', 9499.0),\n",
       " ('stepPhysics', 9599.0),\n",
       " ('stepPhysics', 9697.0),\n",
       " ('stepPhysics', 9800.0),\n",
       " ('grabReleaseObject', 9827.0),\n",
       " ('stepPhysics', 9901.0),\n",
       " ('stepPhysics', 10004.0),\n",
       " ('moveBackward', 10064.0),\n",
       " ('stepPhysics', 10103.0),\n",
       " ('stepPhysics', 10204.0),\n",
       " ('stepPhysics', 10305.0),\n",
       " ('stepPhysics', 10401.0),\n",
       " ('stepPhysics', 10505.0),\n",
       " ('moveBackward', 10564.0),\n",
       " ('stepPhysics', 10600.0),\n",
       " ('moveBackward', 10648.0),\n",
       " ('stepPhysics', 10700.0),\n",
       " ('moveBackward', 10730.0),\n",
       " ('stepPhysics', 10804.0),\n",
       " ('moveBackward', 10814.0),\n",
       " ('stepPhysics', 10899.0),\n",
       " ('turnLeft', 10901.0),\n",
       " ('stepPhysics', 11004.0),\n",
       " ('stepPhysics', 11105.0),\n",
       " ('stepPhysics', 11205.0),\n",
       " ('stepPhysics', 11301.0),\n",
       " ('stepPhysics', 11401.0),\n",
       " ('turnLeft', 11403.0),\n",
       " ('turnLeft', 11480.0),\n",
       " ('stepPhysics', 11501.0),\n",
       " ('turnLeft', 11565.0),\n",
       " ('stepPhysics', 11602.0),\n",
       " ('moveForward', 11657.0),\n",
       " ('stepPhysics', 11702.0),\n",
       " ('stepPhysics', 11804.0),\n",
       " ('stepPhysics', 11900.0),\n",
       " ('stepPhysics', 12000.0),\n",
       " ('stepPhysics', 12099.0),\n",
       " ('moveForward', 12157.0),\n",
       " ('stepPhysics', 12199.0),\n",
       " ('moveForward', 12242.0),\n",
       " ('stepPhysics', 12301.0),\n",
       " ('moveForward', 12326.0),\n",
       " ('stepPhysics', 12396.0),\n",
       " ('moveForward', 12409.0),\n",
       " ('stepPhysics', 12496.0),\n",
       " ('moveForward', 12497.0),\n",
       " ('moveForward', 12578.0),\n",
       " ('stepPhysics', 12598.0),\n",
       " ('turnRight', 12632.0),\n",
       " ('stepPhysics', 12699.0),\n",
       " ('stepPhysics', 12795.0),\n",
       " ('turnRight', 12817.0),\n",
       " ('stepPhysics', 12897.0),\n",
       " ('moveForward', 12984.0),\n",
       " ('stepPhysics', 12995.0),\n",
       " ('stepPhysics', 13100.0),\n",
       " ('stepPhysics', 13199.0),\n",
       " ('stepPhysics', 13299.0),\n",
       " ('stepPhysics', 13397.0),\n",
       " ('moveForward', 13483.0),\n",
       " ('stepPhysics', 13494.0),\n",
       " ('moveForward', 13569.0),\n",
       " ('stepPhysics', 13598.0),\n",
       " ('moveForward', 13653.0),\n",
       " ('stepPhysics', 13698.0),\n",
       " ('moveForward', 13737.0),\n",
       " ('stepPhysics', 13799.0),\n",
       " ('moveForward', 13821.0),\n",
       " ('stepPhysics', 13900.0),\n",
       " ('moveForward', 13905.0),\n",
       " ('stepPhysics', 13994.0),\n",
       " ('turnLeft', 14014.0),\n",
       " ('stepPhysics', 14096.0),\n",
       " ('stepPhysics', 14196.0),\n",
       " ('stepPhysics', 14300.0),\n",
       " ('stepPhysics', 14395.0),\n",
       " ('moveForward', 14481.0),\n",
       " ('stepPhysics', 14494.0),\n",
       " ('stepPhysics', 14600.0),\n",
       " ('turnLeft', 14626.0),\n",
       " ('stepPhysics', 14700.0),\n",
       " ('stepPhysics', 14796.0),\n",
       " ('lookDown', 14858.0),\n",
       " ('stepPhysics', 14896.0),\n",
       " ('stepPhysics', 14997.0),\n",
       " ('stepPhysics', 15100.0),\n",
       " ('stepPhysics', 15195.0),\n",
       " ('stepPhysics', 15297.0),\n",
       " ('grabReleaseObject', 15310.0),\n",
       " ('stepPhysics', 15402.0),\n",
       " ('stepPhysics', 15496.0),\n",
       " ('stepPhysics', 15603.0),\n",
       " ('stepPhysics', 15699.0),\n",
       " ('stepPhysics', 15799.0),\n",
       " ('stepPhysics', 15899.0),\n",
       " ('stepPhysics', 15998.0),\n",
       " ('stepPhysics', 16099.0),\n",
       " ('stepPhysics', 16199.0),\n",
       " ('stepPhysics', 16299.0),\n",
       " ('stepPhysics', 16397.0),\n",
       " ('stepPhysics', 16498.0),\n",
       " ('stepPhysics', 16601.0),\n",
       " ('stepPhysics', 16700.0),\n",
       " ('stepPhysics', 16798.0),\n",
       " ('stepPhysics', 16897.0),\n",
       " ('stepPhysics', 17002.0),\n",
       " ('stepPhysics', 17101.0),\n",
       " ('stepPhysics', 17199.0),\n",
       " ('stepPhysics', 17298.0),\n",
       " ('stepPhysics', 17400.0),\n",
       " ('stepPhysics', 17498.0),\n",
       " ('stepPhysics', 17600.0),\n",
       " ('stepPhysics', 17695.0),\n",
       " ('stepPhysics', 17798.0),\n",
       " ('stepPhysics', 17900.0),\n",
       " ('stepPhysics', 17996.0),\n",
       " ('stepPhysics', 18096.0),\n",
       " ('stepPhysics', 18195.0),\n",
       " ('stepPhysics', 18294.0),\n",
       " ('stepPhysics', 18399.0),\n",
       " ('stepPhysics', 18499.0),\n",
       " ('stepPhysics', 18596.0),\n",
       " ('stepPhysics', 18700.0),\n",
       " ('stepPhysics', 18799.0),\n",
       " ('stepPhysics', 18900.0),\n",
       " ('stepPhysics', 19000.0),\n",
       " ('stepPhysics', 19100.0),\n",
       " ('stepPhysics', 19200.0),\n",
       " ('stepPhysics', 19299.0),\n",
       " ('stepPhysics', 19396.0),\n",
       " ('stepPhysics', 19495.0),\n",
       " ('stepPhysics', 19594.0),\n",
       " ('stepPhysics', 19699.0),\n",
       " ('stepPhysics', 19800.0),\n",
       " ('stepPhysics', 19897.0),\n",
       " ('stepPhysics', 19998.0),\n",
       " ('stepPhysics', 20100.0),\n",
       " ('stepPhysics', 20200.0),\n",
       " ('stepPhysics', 20295.0),\n",
       " ('stepPhysics', 20394.0),\n",
       " ('stepPhysics', 20498.0),\n",
       " ('stepPhysics', 20599.0),\n",
       " ('stepPhysics', 20699.0),\n",
       " ('stepPhysics', 20800.0),\n",
       " ('stepPhysics', 20899.0),\n",
       " ('stepPhysics', 20995.0),\n",
       " ('stepPhysics', 21098.0),\n",
       " ('stepPhysics', 21199.0),\n",
       " ('stepPhysics', 21299.0),\n",
       " ('stepPhysics', 21400.0),\n",
       " ('stepPhysics', 21494.0),\n",
       " ('stepPhysics', 21594.0),\n",
       " ('stepPhysics', 21696.0),\n",
       " ('stepPhysics', 21794.0),\n",
       " ('stepPhysics', 21894.0),\n",
       " ('stepPhysics', 21995.0),\n",
       " ('stepPhysics', 22095.0),\n",
       " ('stepPhysics', 22195.0),\n",
       " ('stepPhysics', 22296.0),\n",
       " ('stepPhysics', 22394.0),\n",
       " ('stepPhysics', 22495.0),\n",
       " ('stepPhysics', 22595.0)]"
      ]
     },
     "execution_count": 51,
     "metadata": {},
     "output_type": "execute_result"
    }
   ],
   "source": [
    "episode_actions = [(rep[\"action\"], float(rep[\"timestamp\"])-float(episode[0][\"timestamp\"])) for rep in episode]\n",
    "episode_actions"
   ]
  },
  {
   "cell_type": "code",
   "execution_count": 52,
   "metadata": {},
   "outputs": [],
   "source": [
    "with open(\"actions.txt\", \"w\") as f:\n",
    "    f.write(\"\\n\".join([ep_ac[0] + \",\" + str(ep_ac[1]) for ep_ac in episode_actions]))"
   ]
  },
  {
   "cell_type": "code",
   "execution_count": null,
   "metadata": {},
   "outputs": [],
   "source": []
  }
 ],
 "metadata": {
  "kernelspec": {
   "display_name": "Python 3",
   "language": "python",
   "name": "python3"
  },
  "language_info": {
   "codemirror_mode": {
    "name": "ipython",
    "version": 3
   },
   "file_extension": ".py",
   "mimetype": "text/x-python",
   "name": "python",
   "nbconvert_exporter": "python",
   "pygments_lexer": "ipython3",
   "version": "3.6.4"
  }
 },
 "nbformat": 4,
 "nbformat_minor": 4
}

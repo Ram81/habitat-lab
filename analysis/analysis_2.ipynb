{
 "cells": [
  {
   "cell_type": "code",
   "execution_count": 205,
   "metadata": {},
   "outputs": [],
   "source": [
    "import json\n",
    "import pandas as pd\n",
    "import matplotlib.pyplot as plt\n",
    "import seaborn as sns"
   ]
  },
  {
   "cell_type": "code",
   "execution_count": 206,
   "metadata": {},
   "outputs": [],
   "source": [
    "def read_json(path):\n",
    "    f = open(path)\n",
    "    return json.loads(f.read())"
   ]
  },
  {
   "cell_type": "code",
   "execution_count": 270,
   "metadata": {},
   "outputs": [
    {
     "name": "stdout",
     "output_type": "stream",
     "text": [
      "dict_keys(['episode_length', 'action_frequency'])\n"
     ]
    }
   ],
   "source": [
    "# Dataset stats plots\n",
    "\n",
    "dataset = read_json(\"../data/stats/pick_and_place_human_demos.json\")\n",
    "print(dataset.keys())"
   ]
  },
  {
   "cell_type": "code",
   "execution_count": 271,
   "metadata": {},
   "outputs": [],
   "source": [
    "def plot_histogram(dataset, key, path, title, y_label, x_label):\n",
    "    fig_dims = (8, 7)\n",
    "    sns.set(font_scale = 1)\n",
    "    fig, ax = plt.subplots(figsize=fig_dims)\n",
    "\n",
    "    plot = sns.histplot(\n",
    "        dataset[key],\n",
    "        bins=35,\n",
    "        color='#99CCFF',\n",
    "        ax=ax,\n",
    "    )\n",
    "    for i, bar in enumerate(plot.patches):\n",
    "        bar.set_linewidth(0.5)\n",
    "        bar.set_edgecolor(\"w\")\n",
    "        # bar.set_color('#5899DB')\n",
    "\n",
    "    plt.gca().set(title=\"\")\n",
    "    plot.set_xlabel(x_label, fontsize=15)\n",
    "    plot.set_ylabel(y_label, fontsize=15)\n",
    "\n",
    "    ax.spines['bottom'].set_color('0.1')\n",
    "    ax.spines['top'].set_color('1')\n",
    "    ax.spines['right'].set_color('0.1')\n",
    "    ax.spines['left'].set_color('0.1')\n",
    "\n",
    "    plt.savefig(path, dpi=400, pad_inches=0.1, transparent=True)\n",
    "    plt.clf()\n",
    "    fig.clf()\n",
    "\n",
    "\n",
    "def plot_barplot(dataset, key, path, title, y_label, x_label):\n",
    "    colors = ['#5899DB', '#808080',  '#67AB9F', '#F19C99', '#FFB366', '#99CCFF', '#D49555',  '#97D077',  '#A680B8']\n",
    "    keys = list(dataset[key].keys())\n",
    "    values = list(map(int, list(dataset[key].values())))\n",
    "    fig_dims = (7, 7)\n",
    "#     if \"object\" in path:\n",
    "#         fig_dims = (6, 6)\n",
    "    fig, ax = plt.subplots(figsize=fig_dims)\n",
    "    \n",
    "    sns.set(font_scale = 1)\n",
    "    \n",
    "    plot = sns.barplot(x=keys, y=values)\n",
    "    for i, bar in enumerate(ax.patches):\n",
    "        bar.set_color(colors[i])\n",
    "    \n",
    "    for item in plot.get_xticklabels():\n",
    "        item.set_rotation(45)\n",
    "\n",
    "    ticks = [0, 200000, 400000, 600000, 800000, 1000000, 1200000, 1400000]\n",
    "    print(max(values))\n",
    "    print(values)\n",
    "    \n",
    "    if max(values) > 1000000:\n",
    "        print(\"lim 1\")\n",
    "        ticks = [0, 200000, 400000, 600000, 800000, 1000000, 1200000, 1400000]\n",
    "        plot.set_ylim(0, 1450000)\n",
    "\n",
    "    if max(values) > 2000000:\n",
    "        print(\"lim 1\")\n",
    "        ticks = [0, 1000000, 2000000, 3000000, 4000000, 5000000]\n",
    "        plot.set_ylim(0, 5150000)\n",
    "    \n",
    "\n",
    "    if max(values) < 1000000:\n",
    "        print(\"lim 2\")\n",
    "        ticks = [0, 200000, 400000, 600000, 800000, 1000000]\n",
    "        plot.set_ylim(0, 905000)\n",
    "\n",
    "    if max(values) < 700000:\n",
    "        print(\"lim 3\")\n",
    "        ticks = [0, 50000, 100000, 150000, 200000, 250000]\n",
    "        plot.set_ylim(0, 270000)\n",
    "    \n",
    "    plot.set_yticklabels(ticks, size=10)\n",
    "\n",
    "    ax.spines['bottom'].set_color('0.1')\n",
    "    ax.spines['top'].set_color('1')\n",
    "    ax.spines['right'].set_color('0.1')\n",
    "    ax.spines['left'].set_color('0.1')\n",
    "\n",
    "    plt.gca().set(title=\"\")\n",
    "    plot.set_xlabel(x_label, fontsize=15)\n",
    "    plot.set_ylabel(y_label, fontsize=15)\n",
    "    plt.savefig(path, dpi=400, bbox_inches=\"tight\", pad_inches=0.1, transparent=True)\n",
    "    plt.clf()\n",
    "    fig.clf()"
   ]
  },
  {
   "cell_type": "code",
   "execution_count": 272,
   "metadata": {},
   "outputs": [
    {
     "data": {
      "text/plain": [
       "<Figure size 576x504 with 0 Axes>"
      ]
     },
     "metadata": {},
     "output_type": "display_data"
    }
   ],
   "source": [
    "plot_histogram(\n",
    "    dataset,\n",
    "    key=\"episode_length\",\n",
    "    path=\"figures/pick_and_place_episode_length_distrib.jpg\",\n",
    "    title=\"Episode length histogram\",\n",
    "    y_label=\"Number of episodes\",\n",
    "    x_label=\"Episode length\"\n",
    ")"
   ]
  },
  {
   "cell_type": "code",
   "execution_count": 273,
   "metadata": {},
   "outputs": [
    {
     "name": "stdout",
     "output_type": "stream",
     "text": [
      "4211570\n",
      "[23942, 1628141, 300040, 2168225, 2290425, 4211570, 372666, 29159, 142972]\n",
      "lim 1\n",
      "lim 1\n"
     ]
    },
    {
     "name": "stderr",
     "output_type": "stream",
     "text": [
      "/Users/ram.ramrakhya/research/venv/lib/python3.6/site-packages/ipykernel_launcher.py:74: UserWarning: FixedFormatter should only be used together with FixedLocator\n"
     ]
    },
    {
     "data": {
      "text/plain": [
       "<Figure size 504x504 with 0 Axes>"
      ]
     },
     "metadata": {},
     "output_type": "display_data"
    }
   ],
   "source": [
    "plot_barplot(\n",
    "    dataset,\n",
    "    key=\"action_frequency\",\n",
    "    path=\"figures/pick_and_place_action_distrib.jpg\",\n",
    "    title=\"Action frequency histogram\",\n",
    "    x_label=\"Actions\",\n",
    "    y_label=\"Num actions\"\n",
    ")"
   ]
  },
  {
   "cell_type": "code",
   "execution_count": 274,
   "metadata": {},
   "outputs": [
    {
     "name": "stdout",
     "output_type": "stream",
     "text": [
      "dict_keys(['STOP', 'TURN_RIGHT', 'MOVE_FORWARD', 'TURN_LEFT', 'LOOK_DOWN', 'LOOK_UP'])\n",
      "737833\n",
      "[8618, 187160, 737833, 182100, 6454, 5098]\n",
      "lim 2\n"
     ]
    },
    {
     "name": "stderr",
     "output_type": "stream",
     "text": [
      "/Users/ram.ramrakhya/research/venv/lib/python3.6/site-packages/ipykernel_launcher.py:74: UserWarning: FixedFormatter should only be used together with FixedLocator\n"
     ]
    },
    {
     "name": "stdout",
     "output_type": "stream",
     "text": [
      "dict_keys(['STOP', 'TURN_RIGHT', 'MOVE_FORWARD', 'TURN_LEFT', 'LOOK_DOWN', 'LOOK_UP'])\n",
      "229159\n",
      "[7378, 54949, 229159, 56687, 0, 0]\n",
      "lim 2\n",
      "lim 3\n"
     ]
    },
    {
     "name": "stderr",
     "output_type": "stream",
     "text": [
      "/Users/ram.ramrakhya/research/venv/lib/python3.6/site-packages/ipykernel_launcher.py:74: UserWarning: FixedFormatter should only be used together with FixedLocator\n"
     ]
    },
    {
     "name": "stdout",
     "output_type": "stream",
     "text": [
      "dict_keys(['TURN_LEFT', 'MOVE_FORWARD', 'TURN_RIGHT', 'LOOK_DOWN', 'GRAB_RELEASE', 'LOOK_UP', 'STOP'])\n",
      "1297121\n",
      "[717347, 1297121, 665223, 271569, 19700, 119976, 9251]\n",
      "lim 1\n"
     ]
    },
    {
     "name": "stderr",
     "output_type": "stream",
     "text": [
      "/Users/ram.ramrakhya/research/venv/lib/python3.6/site-packages/ipykernel_launcher.py:74: UserWarning: FixedFormatter should only be used together with FixedLocator\n"
     ]
    },
    {
     "data": {
      "text/plain": [
       "<Figure size 576x504 with 0 Axes>"
      ]
     },
     "metadata": {},
     "output_type": "display_data"
    },
    {
     "data": {
      "text/plain": [
       "<Figure size 504x504 with 0 Axes>"
      ]
     },
     "metadata": {},
     "output_type": "display_data"
    },
    {
     "data": {
      "text/plain": [
       "<Figure size 576x504 with 0 Axes>"
      ]
     },
     "metadata": {},
     "output_type": "display_data"
    },
    {
     "data": {
      "text/plain": [
       "<Figure size 504x504 with 0 Axes>"
      ]
     },
     "metadata": {},
     "output_type": "display_data"
    },
    {
     "data": {
      "text/plain": [
       "<Figure size 576x504 with 0 Axes>"
      ]
     },
     "metadata": {},
     "output_type": "display_data"
    },
    {
     "data": {
      "text/plain": [
       "<Figure size 504x504 with 0 Axes>"
      ]
     },
     "metadata": {},
     "output_type": "display_data"
    }
   ],
   "source": [
    "paths = [\"objectnav_human_demos.json\", \"objectnav_s_path.json\", \"pick_and_place_s_path.json\"]\n",
    "\n",
    "for path in paths:\n",
    "    output_path = \"figures/{}_episode_length_distrib.jpg\".format(path.split(\".\")[0])\n",
    "    file_path = \"../data/stats/{}\".format(path)\n",
    "    dataset = read_json(file_path)\n",
    "    if path == \"objectnav_s_path.json\":\n",
    "        dataset[\"action_frequency\"].update({\n",
    "            \"LOOK_DOWN\": 0,\n",
    "            \"LOOK_UP\": 0\n",
    "        })\n",
    "\n",
    "    plot_histogram(\n",
    "        dataset,\n",
    "        key=\"episode_length\",\n",
    "        path=output_path,\n",
    "        title=\"Episode length histogram\",\n",
    "        y_label=\"\",\n",
    "        x_label=\"Episode length\"\n",
    "    )\n",
    "    output_path = \"figures/{}_action_distrib.jpg\".format(path.split(\".\")[0])\n",
    "    print(dataset[\"action_frequency\"].keys())\n",
    "    plot_barplot(\n",
    "        dataset,\n",
    "        key=\"action_frequency\",\n",
    "        path=output_path,\n",
    "        title=\"Action frequency histogram\",\n",
    "        x_label=\"Actions\",\n",
    "        y_label=\"\"\n",
    "    )"
   ]
  },
  {
   "cell_type": "code",
   "execution_count": null,
   "metadata": {},
   "outputs": [],
   "source": []
  },
  {
   "cell_type": "code",
   "execution_count": null,
   "metadata": {},
   "outputs": [],
   "source": []
  },
  {
   "cell_type": "code",
   "execution_count": null,
   "metadata": {},
   "outputs": [],
   "source": []
  },
  {
   "cell_type": "code",
   "execution_count": null,
   "metadata": {},
   "outputs": [],
   "source": []
  }
 ],
 "metadata": {
  "kernelspec": {
   "display_name": "Python 3",
   "language": "python",
   "name": "python3"
  },
  "language_info": {
   "codemirror_mode": {
    "name": "ipython",
    "version": 3
   },
   "file_extension": ".py",
   "mimetype": "text/x-python",
   "name": "python",
   "nbconvert_exporter": "python",
   "pygments_lexer": "ipython3",
   "version": "3.6.4"
  }
 },
 "nbformat": 4,
 "nbformat_minor": 4
}
